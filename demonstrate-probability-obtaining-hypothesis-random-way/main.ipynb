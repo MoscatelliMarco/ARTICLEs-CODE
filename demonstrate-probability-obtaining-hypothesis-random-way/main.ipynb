{
 "cells": [
  {
   "cell_type": "markdown",
   "metadata": {},
   "source": [
    "# Demonstrate the probability of obtaining a hypothesis in a random way\n",
    "demonstrate-probability-obtaining-hypothesis-random-way\n",
    "by Marco Moscatelli"
   ]
  },
  {
   "cell_type": "code",
   "execution_count": 2,
   "metadata": {},
   "outputs": [],
   "source": [
    "import numpy as np"
   ]
  },
  {
   "cell_type": "code",
   "execution_count": 3,
   "metadata": {},
   "outputs": [],
   "source": [
    "# Define the hypothesis H(t)\n",
    "def hypothesis(sequence):\n",
    "    # Simple hypothesis: predict the next value as the mean of the sequence\n",
    "    return np.ceil(np.mean(sequence))\n",
    "\n",
    "# Generate sequences in a random way\n",
    "def generate_sequences(num_sequences, sequence_length, cardinality):\n",
    "    return np.random.randint(0, cardinality, (num_sequences, sequence_length))\n",
    "\n",
    "# Calculate PH(t) and NPH(t)\n",
    "def calculate_ph(sequences):\n",
    "    ph = set()\n",
    "    for seq in sequences:\n",
    "        ph.add(tuple(seq))\n",
    "    return ph, len(ph)"
   ]
  },
  {
   "cell_type": "code",
   "execution_count": 19,
   "metadata": {},
   "outputs": [
    {
     "name": "stdout",
     "output_type": "stream",
     "text": [
      "PH(t): {(3, 4, 3, 1, 2), (0, 1, 1, 1, 4), (2, 4, 0, 4, 2), (2, 2, 1, 0, 0), (4, 2, 2, 2, 1), (2, 1, 2, 2, 1), (1, 3, 0, 2, 4), (0, 2, 0, 2, 1), (3, 2, 3, 0, 4), (2, 2, 0, 3, 2), (2, 0, 2, 0, 2), (3, 4, 2, 3, 4), (3, 0, 0, 4, 4), (4, 0, 1, 2, 4), (1, 1, 2, 1, 1), (0, 2, 4, 2, 1), (4, 3, 2, 0, 3), (0, 1, 0, 2, 1), (2, 1, 0, 3, 0), (3, 4, 3, 2, 4)}\n",
      "NPH(t): 20\n",
      "TH(t): {1.0, 2.0, 3.0, 4.0}\n",
      "TPH(t): {(2, 2, 0, 3, 2), (2, 0, 2, 0, 2), (3, 4, 2, 3, 4), (3, 4, 3, 2, 4), (3, 4, 3, 1, 2), (3, 0, 0, 4, 4), (0, 1, 1, 1, 4), (2, 4, 0, 4, 2), (4, 0, 1, 2, 4), (2, 2, 1, 0, 0), (4, 2, 2, 2, 1), (2, 1, 2, 2, 1), (1, 3, 0, 2, 4), (1, 1, 2, 1, 1), (0, 2, 4, 2, 1), (4, 3, 2, 0, 3), (0, 2, 0, 2, 1), (0, 1, 0, 2, 1), (2, 1, 0, 3, 0), (3, 2, 3, 0, 4)}\n",
      "NTPH(t): 20\n",
      "Prediction Probability: 0.0064\n"
     ]
    }
   ],
   "source": [
    "# Calculate probability\n",
    "num_sequences = 20\n",
    "sequence_length = 5\n",
    "cardinality = 5\n",
    "\n",
    "sequences = generate_sequences(num_sequences, sequence_length, cardinality)\n",
    "ph, nph = calculate_ph(sequences)\n",
    "\n",
    "th = {hypothesis(seq) for seq in sequences}\n",
    "tph = set.union(*[calculate_ph([seq])[0] for seq in sequences])\n",
    "ntph = len(tph)\n",
    "\n",
    "c_n = cardinality ** sequence_length\n",
    "prediction_probability = ntph / c_n\n",
    "\n",
    "print(f\"PH(t): {ph}\")\n",
    "print(f\"NPH(t): {nph}\")\n",
    "print(f\"TH(t): {th}\")\n",
    "print(f\"TPH(t): {tph}\")\n",
    "print(f\"NTPH(t): {ntph}\")\n",
    "print(f\"Prediction Probability: {prediction_probability}\")"
   ]
  },
  {
   "cell_type": "code",
   "execution_count": null,
   "metadata": {},
   "outputs": [],
   "source": []
  },
  {
   "cell_type": "code",
   "execution_count": null,
   "metadata": {},
   "outputs": [],
   "source": []
  }
 ],
 "metadata": {
  "kernelspec": {
   "display_name": "Python 3",
   "language": "python",
   "name": "python3"
  },
  "language_info": {
   "codemirror_mode": {
    "name": "ipython",
    "version": 3
   },
   "file_extension": ".py",
   "mimetype": "text/x-python",
   "name": "python",
   "nbconvert_exporter": "python",
   "pygments_lexer": "ipython3",
   "version": "3.10.3"
  }
 },
 "nbformat": 4,
 "nbformat_minor": 2
}
